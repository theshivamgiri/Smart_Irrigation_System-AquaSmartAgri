{
  "nbformat": 4,
  "nbformat_minor": 0,
  "metadata": {
    "colab": {
      "provenance": [],
      "authorship_tag": "ABX9TyME6bhoJjAxioHpdNrLvy5/",
      "include_colab_link": true
    },
    "kernelspec": {
      "name": "python3",
      "display_name": "Python 3"
    },
    "language_info": {
      "name": "python"
    }
  },
  "cells": [
    {
      "cell_type": "markdown",
      "metadata": {
        "id": "view-in-github",
        "colab_type": "text"
      },
      "source": [
        "<a href=\"https://colab.research.google.com/github/theshivamgiri/Smart_Irrigation_System-AquaSmartAgri/blob/main/UI_for_farmers.ipynb\" target=\"_parent\"><img src=\"https://colab.research.google.com/assets/colab-badge.svg\" alt=\"Open In Colab\"/></a>"
      ]
    },
    {
      "cell_type": "code",
      "source": [
        "import requests\n",
        "import pandas as pd\n",
        "import numpy as np\n",
        "\n",
        "# URL for ThingSpeak channel data (replace 'YOUR_CHANNEL_ID' and 'YOUR_API_KEY')\n",
        "url = 'https://api.thingspeak.com/channels/2648719/feeds.json?api_key=T9BTHEE3NKREFMUD&results=1000'\n",
        "\n",
        "response = requests.get(url)\n",
        "data = response.json()\n",
        "\n",
        "# Convert JSON data to a DataFrame\n",
        "feeds = data['feeds']\n",
        "df = pd.DataFrame(feeds)\n",
        "df['created_at'] = pd.to_datetime(df['created_at'])\n",
        "df['field1'] = pd.to_numeric(df['field1'], errors='coerce')  # Temperature\n",
        "df['field2'] = pd.to_numeric(df['field2'], errors='coerce')  # Humidity\n",
        "\n",
        "# Rename columns for clarity\n",
        "df.rename(columns={'field1': 'Temperature', 'field2': 'Humidity'}, inplace=True)\n",
        "\n",
        "print(df.tail())"
      ],
      "metadata": {
        "colab": {
          "base_uri": "https://localhost:8080/"
        },
        "id": "3F1EjtxZaimK",
        "outputId": "454da2d0-e1b9-4792-adf8-f9575e93156b"
      },
      "execution_count": 123,
      "outputs": [
        {
          "output_type": "stream",
          "name": "stdout",
          "text": [
            "                   created_at  entry_id  Temperature  Humidity\n",
            "99  2024-11-18 11:38:14+00:00       100         30.4      11.0\n",
            "100 2024-11-18 11:38:39+00:00       101         29.4      11.0\n",
            "101 2024-11-18 11:39:01+00:00       102         27.2      11.0\n",
            "102 2024-11-18 11:39:23+00:00       103         21.9      27.0\n",
            "103 2024-11-18 11:39:45+00:00       104          9.0      27.0\n"
          ]
        }
      ]
    },
    {
      "cell_type": "code",
      "source": [
        "# Drop rows with NaN values\n",
        "df.dropna(subset=['Temperature', 'Humidity'], inplace=True)\n",
        "\n",
        "# Rename columns for clarity\n",
        "df.rename(columns={'field1': 'Temperature', 'field2': 'Humidity'}, inplace=True)\n",
        "\n",
        "# Add features such as time of day or average temperature/humidity for better modeling\n",
        "df['hour'] = df['created_at'].dt.hour\n",
        "\n",
        "# Example target variable: suggest whether irrigation is needed\n",
        "df['Irrigation_Need'] = np.where((df['Temperature'] > 30) & (df['Humidity'] < 50), 1, 0)  # Simplified rule"
      ],
      "metadata": {
        "id": "r1RuIFHJatvR"
      },
      "execution_count": 124,
      "outputs": []
    },
    {
      "cell_type": "code",
      "source": [
        "from sklearn.model_selection import train_test_split\n",
        "from sklearn.ensemble import RandomForestClassifier\n",
        "from sklearn.metrics import accuracy_score\n",
        "\n",
        "# Prepare data for training\n",
        "X = df[['Temperature', 'Humidity', 'hour']]\n",
        "y = df['Irrigation_Need']\n",
        "\n",
        "X_train, X_test, y_train, y_test = train_test_split(X, y, test_size=0.2, random_state=90)\n",
        "\n",
        "# Train a RandomForest model\n",
        "model = RandomForestClassifier(n_estimators=100, random_state=42)\n",
        "model.fit(X_train, y_train)\n",
        "\n",
        "# Evaluate the model\n",
        "y_pred = model.predict(X_test)\n",
        "print(f'Accuracy: {accuracy_score(y_test, y_pred)}')\n"
      ],
      "metadata": {
        "colab": {
          "base_uri": "https://localhost:8080/"
        },
        "id": "-A521-MybDrD",
        "outputId": "e26d3fe5-b947-45e7-8237-af5c3e7ba708"
      },
      "execution_count": 125,
      "outputs": [
        {
          "output_type": "stream",
          "name": "stdout",
          "text": [
            "Accuracy: 0.8571428571428571\n"
          ]
        }
      ]
    },
    {
      "cell_type": "code",
      "source": [
        "import pickle\n",
        "pickle.dump(model, open('model.pkl', 'wb'))"
      ],
      "metadata": {
        "id": "X_9bieGMbJzZ"
      },
      "execution_count": 126,
      "outputs": []
    },
    {
      "cell_type": "code",
      "source": [
        "import pandas as pd\n",
        "from IPython.core.display import display, HTML\n",
        "\n",
        "import time\n",
        "\n",
        "# Extract the last row values\n",
        "last_row = df.iloc[-1]\n",
        "temp = last_row['Temperature']\n",
        "humidity = last_row['Humidity']\n",
        "hour = last_row['hour']\n",
        "\n",
        "# Display the extracted data in HTML with Hindi labels\n",
        "# future scope - more local language & voice assitance\n",
        "html_code = f\"\"\"\n",
        "<!DOCTYPE html>\n",
        "<html lang=\"hi\">\n",
        "<head>\n",
        "    <meta charset=\"UTF-8\">\n",
        "    <title>स्मार्ट सिंचाई प्रणाली</title>\n",
        "</head>\n",
        "<body>\n",
        "    <h1>स्मार्ट सिंचाई सहायता प्रणाली</h1>\n",
        "    <p><strong>तापमान (°C):</strong> {temp}</p>\n",
        "    <p><strong>नमी (%):</strong> {humidity}</p>\n",
        "    <p><strong>समय (घंटे):</strong> {hour}</p>\n",
        "</body>\n",
        "</html>\n",
        "\"\"\"\n",
        "display(HTML(html_code))\n",
        "\n",
        "# Assuming 'model' is already loaded and your dataset is in 'df'\n",
        "def predict_last_row(df, model, delay=9):\n",
        "    # Extract the last row of the DataFrame\n",
        "    last_row = df.iloc[-1]\n",
        "    temp = last_row['Temperature']\n",
        "    humidity = last_row['Humidity']\n",
        "    hour = last_row['hour']\n",
        "\n",
        "    # Create DataFrame for the input\n",
        "    input_data = pd.DataFrame([[temp, humidity, hour]], columns=['Temperature', 'Humidity', 'hour'])\n",
        "\n",
        "    # Make a prediction\n",
        "    prediction = model.predict(input_data)\n",
        "\n",
        "    # Introduce delay\n",
        "    #time.sleep(delay)\n",
        "\n",
        "    result = \"सिंचाई की आवश्यकता है\" if prediction[0] == 1 else \"सिंचाई की आवश्यकता नहीं है\"\n",
        "    html_output = f\"\"\"\n",
        "    <div style=\"font-size: 27px; font-weight: bold; color: red ; text-align: center;\">\n",
        "        {result}\n",
        "    </div>\n",
        "    \"\"\"\n",
        "    display(HTML(html_output))\n",
        "    return\n",
        "\n",
        "\n",
        "# Example usage:\n",
        "# Assuming 'df' is your DataFrame and 'model' is your trained model\n",
        "print(predict_last_row(df, model))\n",
        "\n",
        "from IPython.display import IFrame, display\n",
        "\n",
        "# URLs for the four charts\n",
        "chart_urls = [\n",
        "    'https://thingspeak.mathworks.com/channels/2648719/charts/1?bgcolor=%23ffffff&color=%23d62020&dynamic=true&results=60&title=Temperature+Chart&type=line',\n",
        "    'https://thingspeak.mathworks.com/channels/2648719/charts/2?bgcolor=%23ffffff&color=%2300aaff&dynamic=true&results=60&title=Humidity+Chart&type=line',\n",
        "    'https://thingspeak.mathworks.com/channels/2648719/widgets/916916',\n",
        "    'https://thingspeak.mathworks.com/channels/2648719/widgets/916917'\n",
        "]\n",
        "\n",
        "# Display all charts in separate IFrames\n",
        "for url in chart_urls:\n",
        "    display(IFrame(url, width=540, height=270))\n",
        "\n"
      ],
      "metadata": {
        "colab": {
          "base_uri": "https://localhost:8080/",
          "height": 1000
        },
        "id": "tceKbHIlw3ny",
        "outputId": "32ce8a95-694a-4949-cffc-112ca6a62ed9"
      },
      "execution_count": 127,
      "outputs": [
        {
          "output_type": "display_data",
          "data": {
            "text/plain": [
              "<IPython.core.display.HTML object>"
            ],
            "text/html": [
              "\n",
              "<!DOCTYPE html>\n",
              "<html lang=\"hi\">\n",
              "<head>\n",
              "    <meta charset=\"UTF-8\">\n",
              "    <title>स्मार्ट सिंचाई प्रणाली</title>\n",
              "</head>\n",
              "<body>\n",
              "    <h1>स्मार्ट सिंचाई सहायता प्रणाली</h1>\n",
              "    <p><strong>तापमान (°C):</strong> 9.0</p>\n",
              "    <p><strong>नमी (%):</strong> 27.0</p>\n",
              "    <p><strong>समय (घंटे):</strong> 11</p>\n",
              "</body>\n",
              "</html>\n"
            ]
          },
          "metadata": {}
        },
        {
          "output_type": "display_data",
          "data": {
            "text/plain": [
              "<IPython.core.display.HTML object>"
            ],
            "text/html": [
              "\n",
              "    <div style=\"font-size: 27px; font-weight: bold; color: red ; text-align: center;\">\n",
              "        सिंचाई की आवश्यकता नहीं है\n",
              "    </div>\n",
              "    "
            ]
          },
          "metadata": {}
        },
        {
          "output_type": "stream",
          "name": "stdout",
          "text": [
            "None\n"
          ]
        },
        {
          "output_type": "display_data",
          "data": {
            "text/plain": [
              "<IPython.lib.display.IFrame at 0x7825bca69990>"
            ],
            "text/html": [
              "\n",
              "        <iframe\n",
              "            width=\"540\"\n",
              "            height=\"270\"\n",
              "            src=\"https://thingspeak.mathworks.com/channels/2648719/charts/1?bgcolor=%23ffffff&color=%23d62020&dynamic=true&results=60&title=Temperature+Chart&type=line\"\n",
              "            frameborder=\"0\"\n",
              "            allowfullscreen\n",
              "            \n",
              "        ></iframe>\n",
              "        "
            ]
          },
          "metadata": {}
        },
        {
          "output_type": "display_data",
          "data": {
            "text/plain": [
              "<IPython.lib.display.IFrame at 0x7825bca69990>"
            ],
            "text/html": [
              "\n",
              "        <iframe\n",
              "            width=\"540\"\n",
              "            height=\"270\"\n",
              "            src=\"https://thingspeak.mathworks.com/channels/2648719/charts/2?bgcolor=%23ffffff&color=%2300aaff&dynamic=true&results=60&title=Humidity+Chart&type=line\"\n",
              "            frameborder=\"0\"\n",
              "            allowfullscreen\n",
              "            \n",
              "        ></iframe>\n",
              "        "
            ]
          },
          "metadata": {}
        },
        {
          "output_type": "display_data",
          "data": {
            "text/plain": [
              "<IPython.lib.display.IFrame at 0x7825bca69990>"
            ],
            "text/html": [
              "\n",
              "        <iframe\n",
              "            width=\"540\"\n",
              "            height=\"270\"\n",
              "            src=\"https://thingspeak.mathworks.com/channels/2648719/widgets/916916\"\n",
              "            frameborder=\"0\"\n",
              "            allowfullscreen\n",
              "            \n",
              "        ></iframe>\n",
              "        "
            ]
          },
          "metadata": {}
        },
        {
          "output_type": "display_data",
          "data": {
            "text/plain": [
              "<IPython.lib.display.IFrame at 0x7825bca69990>"
            ],
            "text/html": [
              "\n",
              "        <iframe\n",
              "            width=\"540\"\n",
              "            height=\"270\"\n",
              "            src=\"https://thingspeak.mathworks.com/channels/2648719/widgets/916917\"\n",
              "            frameborder=\"0\"\n",
              "            allowfullscreen\n",
              "            \n",
              "        ></iframe>\n",
              "        "
            ]
          },
          "metadata": {}
        }
      ]
    }
  ]
}