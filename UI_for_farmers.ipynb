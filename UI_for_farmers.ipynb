{
  "nbformat": 4,
  "nbformat_minor": 0,
  "metadata": {
    "colab": {
      "provenance": [],
      "authorship_tag": "ABX9TyNCC8tLMA855R3Umq/1Y8vs",
      "include_colab_link": true
    },
    "kernelspec": {
      "name": "python3",
      "display_name": "Python 3"
    },
    "language_info": {
      "name": "python"
    }
  },
  "cells": [
    {
      "cell_type": "markdown",
      "metadata": {
        "id": "view-in-github",
        "colab_type": "text"
      },
      "source": [
        "<a href=\"https://colab.research.google.com/github/theshivamgiri/Smart_Irrigation_System-AquaSmartAgri/blob/main/UI_for_farmers.ipynb\" target=\"_parent\"><img src=\"https://colab.research.google.com/assets/colab-badge.svg\" alt=\"Open In Colab\"/></a>"
      ]
    },
    {
      "cell_type": "code",
      "source": [
        "import requests\n",
        "import pandas as pd\n",
        "import numpy as np\n",
        "\n",
        "# URL for ThingSpeak channel data (replace 'YOUR_CHANNEL_ID' and 'YOUR_API_KEY')\n",
        "url = 'https://api.thingspeak.com/channels/2648719/feeds.json?api_key=T9BTHEE3NKREFMUD&results=1000'\n",
        "\n",
        "response = requests.get(url)\n",
        "data = response.json()\n",
        "\n",
        "# Convert JSON data to a DataFrame\n",
        "feeds = data['feeds']\n",
        "df = pd.DataFrame(feeds)\n",
        "df['created_at'] = pd.to_datetime(df['created_at'])\n",
        "df['field1'] = pd.to_numeric(df['field1'], errors='coerce')  # Temperature\n",
        "df['field2'] = pd.to_numeric(df['field2'], errors='coerce')  # Humidity\n",
        "\n",
        "print(df.tail())"
      ],
      "metadata": {
        "colab": {
          "base_uri": "https://localhost:8080/"
        },
        "id": "3F1EjtxZaimK",
        "outputId": "cc250223-73ac-4857-aeda-f91025e29400"
      },
      "execution_count": null,
      "outputs": [
        {
          "output_type": "stream",
          "name": "stdout",
          "text": [
            "                  created_at  entry_id  field1  field2\n",
            "58 2024-11-15 11:25:38+00:00        59    -3.8    72.0\n",
            "59 2024-11-15 11:28:06+00:00        60    -3.8    72.0\n",
            "60 2024-11-15 11:28:28+00:00        61    22.9    72.0\n",
            "61 2024-11-15 11:29:39+00:00        62    22.9    72.0\n",
            "62 2024-11-15 14:40:56+00:00        63    42.2    40.0\n"
          ]
        }
      ]
    },
    {
      "cell_type": "code",
      "source": [
        "# Drop rows with NaN values\n",
        "df.dropna(subset=['field1', 'field2'], inplace=True)\n",
        "\n",
        "# Rename columns for clarity\n",
        "df.rename(columns={'field1': 'Temperature', 'field2': 'Humidity'}, inplace=True)\n",
        "\n",
        "# Add features such as time of day or average temperature/humidity for better modeling\n",
        "df['hour'] = df['created_at'].dt.hour\n",
        "\n",
        "# Example target variable: suggest whether irrigation is needed\n",
        "df['Irrigation_Need'] = np.where((df['Temperature'] > 30) & (df['Humidity'] < 50), 1, 0)  # Simplified rule"
      ],
      "metadata": {
        "id": "r1RuIFHJatvR"
      },
      "execution_count": null,
      "outputs": []
    },
    {
      "cell_type": "code",
      "source": [
        "from sklearn.model_selection import train_test_split\n",
        "from sklearn.ensemble import RandomForestClassifier\n",
        "from sklearn.metrics import accuracy_score\n",
        "\n",
        "# Prepare data for training\n",
        "X = df[['Temperature', 'Humidity', 'hour']]\n",
        "y = df['Irrigation_Need']\n",
        "\n",
        "X_train, X_test, y_train, y_test = train_test_split(X, y, test_size=0.2, random_state=42)\n",
        "\n",
        "# Train a RandomForest model\n",
        "model = RandomForestClassifier(n_estimators=100, random_state=42)\n",
        "model.fit(X_train, y_train)\n",
        "\n",
        "# Evaluate the model\n",
        "y_pred = model.predict(X_test)\n",
        "print(f'Accuracy: {accuracy_score(y_test, y_pred)}')\n",
        "\n",
        "# # Function for predicting irrigation need\n",
        "# def predict_irrigation(temp, humidity, hour):\n",
        "#     prediction = model.predict([[temp, humidity, hour]])\n",
        "#     return \"Irrigation Needed\" if prediction[0] == 1 else \"No Irrigation Needed\"\n",
        "\n",
        "\n",
        "# Output should be in Hindi\n",
        "# Updated function to include feature names\n",
        "def predict_irrigation(temp, humidity, hour):\n",
        "    input_data = pd.DataFrame([[temp, humidity, hour]], columns=['Temperature', 'Humidity', 'hour'])\n",
        "    prediction = model.predict(input_data)\n",
        "    return \"सिंचाई की आवश्यकता है\" if prediction[0] == 1 else \"सिंचाई की आवश्यकता नहीं है\"\n",
        "\n",
        "#example - irrigation needed @(90,9,1), , not needed @(9,20,10)\n",
        "# Test the function\n",
        "print(predict_irrigation(54,2,1))"
      ],
      "metadata": {
        "colab": {
          "base_uri": "https://localhost:8080/"
        },
        "id": "-A521-MybDrD",
        "outputId": "48ce1f17-92b6-436f-8c73-ac44030f0903"
      },
      "execution_count": null,
      "outputs": [
        {
          "output_type": "stream",
          "name": "stdout",
          "text": [
            "Accuracy: 0.9166666666666666\n",
            "सिंचाई की आवश्यकता है\n"
          ]
        }
      ]
    },
    {
      "cell_type": "code",
      "source": [
        "import pickle\n",
        "pickle.dump(model, open('model.pkl', 'wb'))"
      ],
      "metadata": {
        "id": "X_9bieGMbJzZ"
      },
      "execution_count": null,
      "outputs": []
    },
    {
      "cell_type": "code",
      "source": [
        "!pip install streamlit\n",
        "!streamlit run app.py & npx localtunnel --port 8501\n",
        "\n",
        "import streamlit as st\n",
        "import numpy as np\n",
        "from sklearn.ensemble import RandomForestClassifier\n",
        "import pickle\n",
        "\n",
        "# Load the pre-trained model (assuming you have saved it)\n",
        "# Use `pickle.dump(model, open('model.pkl', 'wb'))` after training to create this file\n",
        "model_filename = 'model.pkl'\n",
        "try:\n",
        "    model = pickle.load(open(model_filename, 'rb'))\n",
        "except FileNotFoundError:\n",
        "    st.error(\"Model file not found. Please train the model and save it as 'model.pkl'.\")\n",
        "\n",
        "# Function to make predictions\n",
        "def predict_irrigation(temp, humidity, hour):\n",
        "    prediction = model.predict([[temp, humidity, hour]])\n",
        "    return \"सिंचाई की आवश्यकता है\" if prediction[0] == 1 else \"सिंचाई की आवश्यकता नहीं है\"\n",
        "\n",
        "# Streamlit UI setup\n",
        "st.set_page_config(page_title=\"स्मार्ट सिंचाई प्रणाली\", layout=\"centered\")\n",
        "\n",
        "st.title(\"स्मार्ट सिंचाई सहायता प्रणाली\")\n",
        "st.subheader(\"अपनी फसल के लिए सिंचाई की ज़रूरत का पूर्वानुमान\")\n",
        "\n",
        "# Input fields for farmers (in Hindi)\n",
        "temp = st.number_input(\"तापमान दर्ज करें (°C)\", min_value=-10.0, max_value=50.0, step=0.1)\n",
        "humidity = st.number_input(\"नमी दर्ज करें (%)\", min_value=0.0, max_value=100.0, step=0.1)\n",
        "hour = st.slider(\"समय (घंटे में)\", 0, 23, 12)  # Default current time input\n",
        "\n",
        "# Button to get prediction\n",
        "if st.button(\"परिणाम देखें\"):\n",
        "    if 'model' in locals():\n",
        "        result = predict_irrigation(temp, humidity, hour)\n",
        "        st.success(f\"सुझाव: {result}\")\n",
        "    else:\n",
        "        st.warning(\"कृपया पहले मॉडल को लोड करें।\")\n",
        "\n",
        "# Tips for usage (optional)\n",
        "st.info(\"टिप: सिंचाई की आवश्यकता वाले परिणाम का मतलब है कि आपके खेत को पानी की आवश्यकता है।\")\n",
        "\n",
        "# Footer (optional)\n",
        "st.write(\"**यह ऐप किसानों की सहायता के लिए डिज़ाइन किया गया है।**\")"
      ],
      "metadata": {
        "id": "tfYYqv64bN4N"
      },
      "execution_count": null,
      "outputs": []
    },
    {
      "cell_type": "code",
      "source": [
        "from IPython.core.display import display, HTML\n",
        "\n",
        "html_code = \"\"\"\n",
        "<!DOCTYPE html>\n",
        "<html lang=\"hi\">\n",
        "<head>\n",
        "    <meta charset=\"UTF-8\">\n",
        "    <title>स्मार्ट सिंचाई प्रणाली</title>\n",
        "    <link rel=\"stylesheet\" href=\"styles.css\">\n",
        "</head>\n",
        "<body>\n",
        "    <h1>स्मार्ट सिंचाई सहायता प्रणाली</h1>\n",
        "    <form id=\"irrigationForm\">\n",
        "        <label for=\"temp\">तापमान (°C):</label>\n",
        "        <input type=\"number\" id=\"temp\" required>\n",
        "        <label for=\"humidity\">नमी (%):</label>\n",
        "        <input type=\"number\" id=\"humidity\" required>\n",
        "        <label for=\"hour\">समय (घंटे):</label>\n",
        "        <input type=\"number\" id=\"hour\" required>\n",
        "        <button type=\"submit\">परिणाम देखें</button>\n",
        "    </form>\n",
        "    <p id=\"result\"></p>\n",
        "\n",
        "    <script>\n",
        "        document.getElementById('irrigationForm').onsubmit = async (e) => {\n",
        "            e.preventDefault();\n",
        "            const temp = document.getElementById('temp').value;\n",
        "            const humidity = document.getElementById('humidity').value;\n",
        "            const hour = document.getElementById('hour').value;\n",
        "            const response = await fetch('/predict', {\n",
        "                method: 'POST',\n",
        "                headers: { 'Content-Type': 'application/json' },\n",
        "                body: JSON.stringify({ Temperature: temp, Humidity: humidity, Hour: hour })\n",
        "            });\n",
        "            const data = await response.json();\n",
        "            document.getElementById('result').innerText = `सुझाव: ${data.result}`;\n",
        "        };\n",
        "    </script>\n",
        "</body>\n",
        "</html>\n",
        "\n",
        "\"\"\"\n",
        "display(HTML(html_code))\n",
        "\n",
        "# Output should be in Hindi\n",
        "# Updated function to include feature names\n",
        "import time\n",
        "def predict_irrigation(temp, humidity, hour, delay=18):\n",
        "    input_data = pd.DataFrame([[temp, humidity, hour]], columns=['Temperature', 'Humidity', 'hour'])\n",
        "    prediction = model.predict(input_data)\n",
        "\n",
        "    # Introduce delay\n",
        "    time.sleep(delay)\n",
        "\n",
        "    return \"सिंचाई की आवश्यकता है\" if prediction[0] == 1 else \"सिंचाई की आवश्यकता नहीं है\"\n",
        "\n",
        "# Test the function with delay\n",
        "print(predict_irrigation(54, 200, 1, delay=18))"
      ],
      "metadata": {
        "colab": {
          "resources": {
            "http://localhost:8080/styles.css": {
              "data": "",
              "ok": false,
              "headers": [
                [
                  "content-length",
                  "0"
                ]
              ],
              "status": 404,
              "status_text": "Not Found"
            }
          },
          "base_uri": "https://localhost:8080/",
          "height": 119
        },
        "id": "VtUPks0phbiZ",
        "outputId": "ffab6c0d-6ded-4946-8e91-9e3048e04046"
      },
      "execution_count": null,
      "outputs": [
        {
          "output_type": "display_data",
          "data": {
            "text/plain": [
              "<IPython.core.display.HTML object>"
            ],
            "text/html": [
              "\n",
              "<!DOCTYPE html>\n",
              "<html lang=\"hi\">\n",
              "<head>\n",
              "    <meta charset=\"UTF-8\">\n",
              "    <title>स्मार्ट सिंचाई प्रणाली</title>\n",
              "    <link rel=\"stylesheet\" href=\"styles.css\">\n",
              "</head>\n",
              "<body>\n",
              "    <h1>स्मार्ट सिंचाई सहायता प्रणाली</h1>\n",
              "    <form id=\"irrigationForm\">\n",
              "        <label for=\"temp\">तापमान (°C):</label>\n",
              "        <input type=\"number\" id=\"temp\" required>\n",
              "        <label for=\"humidity\">नमी (%):</label>\n",
              "        <input type=\"number\" id=\"humidity\" required>\n",
              "        <label for=\"hour\">समय (घंटे):</label>\n",
              "        <input type=\"number\" id=\"hour\" required>\n",
              "        <button type=\"submit\">परिणाम देखें</button>\n",
              "    </form>\n",
              "    <p id=\"result\"></p>\n",
              "\n",
              "    <script>\n",
              "        document.getElementById('irrigationForm').onsubmit = async (e) => {\n",
              "            e.preventDefault();\n",
              "            const temp = document.getElementById('temp').value;\n",
              "            const humidity = document.getElementById('humidity').value;\n",
              "            const hour = document.getElementById('hour').value;\n",
              "            const response = await fetch('/predict', {\n",
              "                method: 'POST',\n",
              "                headers: { 'Content-Type': 'application/json' },\n",
              "                body: JSON.stringify({ Temperature: temp, Humidity: humidity, Hour: hour })\n",
              "            });\n",
              "            const data = await response.json();\n",
              "            document.getElementById('result').innerText = `सुझाव: ${data.result}`;\n",
              "        };\n",
              "    </script>\n",
              "</body>\n",
              "</html>\n",
              "\n"
            ]
          },
          "metadata": {}
        },
        {
          "output_type": "stream",
          "name": "stdout",
          "text": [
            "सिंचाई की आवश्यकता नहीं है\n"
          ]
        }
      ]
    },
    {
      "cell_type": "code",
      "source": [],
      "metadata": {
        "id": "7JAbTw6_heIZ"
      },
      "execution_count": null,
      "outputs": []
    }
  ]
}